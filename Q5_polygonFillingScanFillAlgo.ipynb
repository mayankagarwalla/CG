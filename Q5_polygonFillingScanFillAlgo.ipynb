{
 "cells": [
  {
   "cell_type": "code",
   "execution_count": 28,
   "id": "954380dc",
   "metadata": {},
   "outputs": [],
   "source": [
    "import numpy as np\n",
    "import matplotlib.pyplot as plt"
   ]
  },
  {
   "cell_type": "code",
   "execution_count": 29,
   "id": "d99fb5b9",
   "metadata": {},
   "outputs": [],
   "source": [
    "def scanline_fill(points):\n",
    "    \n",
    "    # Find the min and max y-coordinates\n",
    "    ymin = int(min(points[:,1]))\n",
    "    ymax = int(max(points[:,1]))\n",
    "\n",
    "    # Initialize an array to store the x-coordinates of the intersections\n",
    "    # between the scanline and the polygon edges\n",
    "    x_intersections = np.zeros((len(points),))\n",
    "\n",
    "    # Iterate over each scanline\n",
    "    for y in range(ymin, ymax+1):\n",
    "        # Find the edges that intersect the scanline\n",
    "        j = 0\n",
    "        for i in range(len(points)):\n",
    "            if i == len(points) - 1:\n",
    "                k = 0\n",
    "            else:\n",
    "                k = i + 1\n",
    "\n",
    "            if (points[i][1] <= y and points[k][1] > y) or (points[k][1] <= y and points[i][1] > y):\n",
    "                x_intersections[j] = int(points[i][0] + (y - points[i][1]) / (points[k][1] - points[i][1]) * (points[k][0] - points[i][0]))\n",
    "                j += 1\n",
    "\n",
    "        # Sort the intersections by x-coordinate\n",
    "        x_intersections = np.sort(x_intersections[:j])\n",
    "\n",
    "        # Fill the scanline between pairs of intersections\n",
    "        for i in range(0, len(x_intersections), 2):\n",
    "            plt.plot([x_intersections[i], x_intersections[i+1]], [y, y], color='black')\n",
    "\n",
    "    plt.show()"
   ]
  },
  {
   "cell_type": "code",
   "execution_count": 32,
   "id": "72d145a9",
   "metadata": {},
   "outputs": [],
   "source": [
    "# define the vertices of the polygon\n",
    "points = np.array([(100, 100), (200, 200), (300, 150), (200, 100)])"
   ]
  },
  {
   "cell_type": "code",
   "execution_count": 33,
   "id": "3e1efb46",
   "metadata": {},
   "outputs": [
    {
     "data": {
      "image/png": "[encoded data removed]",
      "text/plain": [
       "<Figure size 432x288 with 1 Axes>"
      ]
     },
     "metadata": {
      "needs_background": "light"
     },
     "output_type": "display_data"
    }
   ],
   "source": [
    "scanline_fill(points)"
   ]
  },
  {
   "cell_type": "code",
   "execution_count": null,
   "id": "46c4126d",
   "metadata": {},
   "outputs": [],
   "source": []
  },
  {
   "cell_type": "code",
   "execution_count": null,
   "id": "dc46653c",
   "metadata": {},
   "outputs": [],
   "source": []
  }
 ],
 "metadata": {
  "kernelspec": {
   "display_name": "Python 3 (ipykernel)",
   "language": "python",
   "name": "python3"
  },
  "language_info": {
   "codemirror_mode": {
    "name": "ipython",
    "version": 3
   },
   "file_extension": ".py",
   "mimetype": "text/x-python",
   "name": "python",
   "nbconvert_exporter": "python",
   "pygments_lexer": "ipython3",
   "version": "3.9.12"
  }
 },
 "nbformat": 4,
 "nbformat_minor": 5
}
