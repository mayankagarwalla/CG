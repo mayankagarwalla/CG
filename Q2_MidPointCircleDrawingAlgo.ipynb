{
 "cells": [
  {
   "cell_type": "code",
   "execution_count": 1,
   "id": "a1a9c823",
   "metadata": {},
   "outputs": [],
   "source": [
    "import matplotlib.pyplot as plt"
   ]
  },
  {
   "cell_type": "code",
   "execution_count": 6,
   "id": "6bdf822a",
   "metadata": {},
   "outputs": [],
   "source": [
    "def midpoint_circle(xc, yc, r, color='r'):  # xc = x-coord , yc = y-coord , r = radius\n",
    "    x = 0\n",
    "    y = r           # we start with point (0,r)\n",
    "    p = 5/4 - r     # decision Parameter\n",
    "    \n",
    "    x_coords = []\n",
    "    y_coords = []\n",
    "\n",
    "    while x <= y:\n",
    "        x_coords.append(xc + x)\n",
    "        x_coords.append(xc - x)\n",
    "        x_coords.append(xc + y)\n",
    "        x_coords.append(xc - y)\n",
    "\n",
    "        y_coords.append(yc + y)\n",
    "        y_coords.append(yc - y)\n",
    "        y_coords.append(yc + x)\n",
    "        y_coords.append(yc - x)\n",
    "\n",
    "        if p < 0:\n",
    "            p += 2*x + 3\n",
    "        else:\n",
    "            p += 2*(x-y) + 5\n",
    "            y -= 1\n",
    "        \n",
    "        x += 1\n",
    "\n",
    "    plt.scatter(x_coords, y_coords, c=color)\n",
    "    plt.axis('equal')\n",
    "    plt.show()"
   ]
  },
  {
   "cell_type": "code",
   "execution_count": 7,
   "id": "b8460d26",
   "metadata": {},
   "outputs": [
    {
     "data": {
      "image/png": "[encoded data removed]",
      "text/plain": [
       "<Figure size 432x288 with 1 Axes>"
      ]
     },
     "metadata": {
      "needs_background": "light"
     },
     "output_type": "display_data"
    }
   ],
   "source": [
    "# Example usage\n",
    "midpoint_circle(0, 0, 8, color='r')        "
   ]
  },
  {
   "cell_type": "code",
   "execution_count": null,
   "id": "31553eb1",
   "metadata": {},
   "outputs": [],
   "source": []
  }
 ],
 "metadata": {
  "kernelspec": {
   "display_name": "Python 3 (ipykernel)",
   "language": "python",
   "name": "python3"
  },
  "language_info": {
   "codemirror_mode": {
    "name": "ipython",
    "version": 3
   },
   "file_extension": ".py",
   "mimetype": "text/x-python",
   "name": "python",
   "nbconvert_exporter": "python",
   "pygments_lexer": "ipython3",
   "version": "3.9.12"
  }
 },
 "nbformat": 4,
 "nbformat_minor": 5
}
