{
 "cells": [
  {
   "cell_type": "code",
   "execution_count": 24,
   "id": "5f923ad6",
   "metadata": {},
   "outputs": [],
   "source": [
    "import matplotlib.pyplot as plt"
   ]
  },
  {
   "cell_type": "code",
   "execution_count": 25,
   "id": "8c0d55ca",
   "metadata": {},
   "outputs": [],
   "source": [
    "def clip(poly_points, clip_points):\n",
    "   def inside(p):\n",
    "      return(cp2[0]-cp1[0])*(p[1]-cp1[1]) > (cp2[1]-cp1[1])*(p[0]-cp1[0])\n",
    "      \n",
    "   def computeIntersection():\n",
    "      dc = [ cp1[0] - cp2[0], cp1[1] - cp2[1] ]\n",
    "      dp = [ s[0] - e[0], s[1] - e[1] ]\n",
    "      n1 = cp1[0] * cp2[1] - cp1[1] * cp2[0]\n",
    "      n2 = s[0] * e[1] - s[1] * e[0] \n",
    "      n3 = 1.0 / (dc[0] * dp[1] - dc[1] * dp[0])\n",
    "      return [(n1*dp[0] - n2*dc[0]) * n3, (n1*dp[1] - n2*dc[1]) * n3]\n",
    "\n",
    "   outputList = poly_points\n",
    "   cp1 = clip_points[-1]\n",
    "   \n",
    "   for clipVertex in clip_points:\n",
    "      cp2 = clipVertex\n",
    "      inputList = outputList\n",
    "      outputList = []\n",
    "      s = inputList[-1]\n",
    "\n",
    "      for subjectVertex in inputList:\n",
    "         e = subjectVertex\n",
    "         if inside(e):\n",
    "            if not inside(s):\n",
    "               outputList.append(computeIntersection())\n",
    "            outputList.append(e)\n",
    "         elif inside(s):\n",
    "            outputList.append(computeIntersection())\n",
    "         s = e\n",
    "      cp1 = cp2\n",
    "   return(outputList)"
   ]
  },
  {
   "cell_type": "code",
   "execution_count": 26,
   "id": "67f7173f",
   "metadata": {},
   "outputs": [],
   "source": [
    "subjectPolygon = [(50,150),(200,50),(350,150),(350,300),\n",
    "                  (250,300),(200,250),(150,350),(100,250),(100,200)]\n",
    "clipPolygon = [(100,100),(300,100),(300,300),(100,300)]\n",
    "\n",
    "# subjectPolygon = [(100,150), (200,250), (300,100)]\n",
    "# clipPolygon = [(100,100), (100,200), (200,200), (100,100)]\n"
   ]
  },
  {
   "cell_type": "code",
   "execution_count": 27,
   "id": "b5af443d",
   "metadata": {},
   "outputs": [],
   "source": [
    "clippedPolygon = clip(subjectPolygon, clipPolygon)"
   ]
  },
  {
   "cell_type": "code",
   "execution_count": 28,
   "id": "cae490a8",
   "metadata": {},
   "outputs": [],
   "source": [
    "# Plot the original polygons and the resulting clipped polygon"
   ]
  },
  {
   "cell_type": "code",
   "execution_count": 29,
   "id": "d27b9988",
   "metadata": {},
   "outputs": [],
   "source": [
    "subjectPolygon.append(subjectPolygon[0])\n",
    "clipPolygon.append(clipPolygon[0])\n",
    "clippedPolygon.append(clippedPolygon[0])"
   ]
  },
  {
   "cell_type": "code",
   "execution_count": 30,
   "id": "42dca975",
   "metadata": {},
   "outputs": [
    {
     "data": {
      "image/png": "[encoded data removed]",
      "text/plain": [
       "<Figure size 432x288 with 1 Axes>"
      ]
     },
     "metadata": {
      "needs_background": "light"
     },
     "output_type": "display_data"
    }
   ],
   "source": [
    "plt.plot([p[0] for p in subjectPolygon], \n",
    "         [p[1] for p in subjectPolygon], 'b-', label='Subject polygon')\n",
    "plt.plot([p[0] for p in clipPolygon], \n",
    "         [p[1] for p in clipPolygon], 'r-', label='Clipping polygon')\n",
    "plt.plot([p[0] for p in clippedPolygon], \n",
    "         [p[1] for p in clippedPolygon], 'g-', label='Clipped polygon')\n",
    "plt.legend()\n",
    "plt.show()"
   ]
  },
  {
   "cell_type": "code",
   "execution_count": null,
   "id": "e19b3cbb",
   "metadata": {},
   "outputs": [],
   "source": []
  }
 ],
 "metadata": {
  "kernelspec": {
   "display_name": "Python 3 (ipykernel)",
   "language": "python",
   "name": "python3"
  },
  "language_info": {
   "codemirror_mode": {
    "name": "ipython",
    "version": 3
   },
   "file_extension": ".py",
   "mimetype": "text/x-python",
   "name": "python",
   "nbconvert_exporter": "python",
   "pygments_lexer": "ipython3",
   "version": "3.9.12"
  }
 },
 "nbformat": 4,
 "nbformat_minor": 5
}
