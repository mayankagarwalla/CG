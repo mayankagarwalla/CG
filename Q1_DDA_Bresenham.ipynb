{
 "cells": [
  {
   "cell_type": "code",
   "execution_count": 22,
   "id": "5a373ca0",
   "metadata": {},
   "outputs": [],
   "source": [
    "import matplotlib.pyplot as plt"
   ]
  },
  {
   "cell_type": "code",
   "execution_count": 23,
   "id": "fcd3ceea",
   "metadata": {},
   "outputs": [],
   "source": [
    "def DDA(x1, y1, x2, y2, color='r'):\n",
    "    # Calculate the distance between the endpoints\n",
    "    dx = x2 - x1\n",
    "    dy = y2 - y1\n",
    "    steps = abs(dx) if abs(dx) > abs(dy) else abs(dy)\n",
    "    \n",
    "    # Calculate the increment for each coordinate\n",
    "    x_inc = dx / steps\n",
    "    y_inc = dy / steps\n",
    "    \n",
    "    # Initialize the coordinates to the starting point\n",
    "    x = x1\n",
    "    y = y1\n",
    "    \n",
    "    # Plot the line\n",
    "    plt.plot(round(x), round(y), color=color, marker='o')\n",
    "    for i in range(steps):\n",
    "        x += x_inc\n",
    "        y += y_inc\n",
    "        plt.plot(round(x), round(y), color=color, marker='o')\n"
   ]
  },
  {
   "cell_type": "code",
   "execution_count": 20,
   "id": "6c712c5d",
   "metadata": {},
   "outputs": [],
   "source": [
    "def Bresenham(x1, y1, x2, y2, color='r'):\n",
    "    # Calculate the distance between the endpoints\n",
    "    dx = abs(x2 - x1)\n",
    "    dy = abs(y2 - y1)\n",
    "    \n",
    "    # Determine the direction of the line\n",
    "    if x1 < x2:\n",
    "        x_inc = 1\n",
    "    else:\n",
    "        x_inc = -1\n",
    "    if y1 < y2:\n",
    "        y_inc = 1\n",
    "    else:\n",
    "        y_inc = -1\n",
    "        \n",
    "    # Initialize the error term\n",
    "    error = dx - dy\n",
    "    \n",
    "    # Initialize the coordinates to the starting point\n",
    "    x = x1\n",
    "    y = y1\n",
    "    \n",
    "    # Plot the line\n",
    "    plt.plot(x, y, color=color, marker='o')\n",
    "    while x != x2 or y != y2:\n",
    "        # Calculate the error term\n",
    "        error2 = error * 2\n",
    "        \n",
    "        # Adjust the coordinates based on the error term\n",
    "        if error2 > -dy:\n",
    "            error -= dy\n",
    "            x += x_inc\n",
    "        if error2 < dx:\n",
    "            error += dx\n",
    "            y += y_inc\n",
    "        \n",
    "        plt.plot(x, y, color=color, marker='o')\n"
   ]
  },
  {
   "cell_type": "markdown",
   "id": "3a6e04c3",
   "metadata": {},
   "source": [
    "### Usage of above functions"
   ]
  },
  {
   "cell_type": "code",
   "execution_count": 26,
   "id": "62d8c97c",
   "metadata": {},
   "outputs": [
    {
     "data": {
      "image/png": "[encoded data removed]",
      "text/plain": [
       "<Figure size 432x288 with 1 Axes>"
      ]
     },
     "metadata": {
      "needs_background": "light"
     },
     "output_type": "display_data"
    }
   ],
   "source": [
    "DDA(0, 0, 10, 5, color='r')"
   ]
  },
  {
   "cell_type": "code",
   "execution_count": 28,
   "id": "421e7ae2",
   "metadata": {},
   "outputs": [
    {
     "data": {
      "image/png": "[encoded data removed]",
      "text/plain": [
       "<Figure size 432x288 with 1 Axes>"
      ]
     },
     "metadata": {
      "needs_background": "light"
     },
     "output_type": "display_data"
    }
   ],
   "source": [
    "Bresenham(0, 0, 10, 5, color='b')\n"
   ]
  }
 ],
 "metadata": {
  "kernelspec": {
   "display_name": "Python 3 (ipykernel)",
   "language": "python",
   "name": "python3"
  },
  "language_info": {
   "codemirror_mode": {
    "name": "ipython",
    "version": 3
   },
   "file_extension": ".py",
   "mimetype": "text/x-python",
   "name": "python",
   "nbconvert_exporter": "python",
   "pygments_lexer": "ipython3",
   "version": "3.9.12"
  }
 },
 "nbformat": 4,
 "nbformat_minor": 5
}
