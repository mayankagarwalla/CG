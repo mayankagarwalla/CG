{
 "cells": [
  {
   "cell_type": "code",
   "execution_count": 1,
   "id": "ea5bdf99",
   "metadata": {},
   "outputs": [],
   "source": [
    "import numpy as np\n",
    "import matplotlib.pyplot as plt"
   ]
  },
  {
   "cell_type": "code",
   "execution_count": 2,
   "id": "3986f0cd",
   "metadata": {},
   "outputs": [],
   "source": [
    "def hermite_curve(P0, P1, P2, P3):\n",
    "    #\n",
    "    def H1(t):\n",
    "        return 2*t**3 - 3*t**2 + 1\n",
    "    \n",
    "    def H2(t):\n",
    "        return -2*t**3 + 3*t**2\n",
    "    \n",
    "    def H3(t):\n",
    "        return t**3 - 2*t**2 + t\n",
    "    \n",
    "    def H4(t):\n",
    "        return t**3 - t**2\n",
    "\n",
    "    # Create a range of values for t\n",
    "    t_values = np.linspace(0.0, 1.0, 100)\n",
    "\n",
    "    # Evaluate the Hermite curve function for each value of t\n",
    "    curve_points = np.array([P0 * H1(t) + P3 * H2(t) + P1 * H3(t) + P2 * H4(t)\n",
    "                             for t in t_values])\n",
    "\n",
    "    # Plot the Hermite curve\n",
    "    plt.plot(curve_points[:,0], curve_points[:,1], 'b-', label='Hermite Curve')\n",
    "    \n",
    "    plt.plot([P0[0], P1[0]], [P0[1], P1[1]], 'ro-', label='Control Points')\n",
    "    plt.plot([P2[0], P3[0]], [P2[1], P3[1]], 'ro-')\n",
    "    plt.legend()\n",
    "    plt.show()"
   ]
  },
  {
   "cell_type": "code",
   "execution_count": 3,
   "id": "98abb380",
   "metadata": {},
   "outputs": [
    {
     "data": {
      "image/png": "[encoded data removed]",
      "text/plain": [
       "<Figure size 432x288 with 1 Axes>"
      ]
     },
     "metadata": {
      "needs_background": "light"
     },
     "output_type": "display_data"
    }
   ],
   "source": [
    "\n",
    "# Example usage:\n",
    "P0 = np.array([1, 1])\n",
    "P1 = np.array([1, 2])\n",
    "P2 = np.array([3, 4])\n",
    "P3 = np.array([5, 3])\n",
    "hermite_curve(P0, P1, P2, P3)"
   ]
  },
  {
   "cell_type": "markdown",
   "id": "3015f0f7",
   "metadata": {},
   "source": [
    "###  other ways"
   ]
  },
  {
   "cell_type": "code",
   "execution_count": 4,
   "id": "8d03bc50",
   "metadata": {
    "scrolled": true
   },
   "outputs": [
    {
     "data": {
      "image/png": "[encoded data removed]",
      "text/plain": [
       "<Figure size 432x288 with 1 Axes>"
      ]
     },
     "metadata": {
      "needs_background": "light"
     },
     "output_type": "display_data"
    }
   ],
   "source": [
    "import matplotlib.pyplot as plt\n",
    "import numpy as np\n",
    "\n",
    "# Define the control points\n",
    "P0 = np.array([0.0, 0.0])\n",
    "P1 = np.array([1.0, 1.0])\n",
    "T0 = np.array([1.0, 0.0])\n",
    "T1 = np.array([1.0, 0.0])\n",
    "\n",
    "# Define the Hermite basis functions\n",
    "def h00(t):\n",
    "    return 2*t**3 - 3*t**2 + 1\n",
    "\n",
    "def h10(t):\n",
    "    return t**3 - 2*t**2 + t\n",
    "\n",
    "def h01(t):\n",
    "    return -2*t**3 + 3*t**2\n",
    "\n",
    "def h11(t):\n",
    "    return t**3 - t**2\n",
    "\n",
    "# Define the curve function\n",
    "def hermite_curve(t):\n",
    "    x = h00(t)*P0[0] + h10(t)*T0[0] + h01(t)*P1[0] + h11(t)*T1[0]\n",
    "    y = h00(t)*P0[1] + h10(t)*T0[1] + h01(t)*P1[1] + h11(t)*T1[1]\n",
    "    return x, y\n",
    "\n",
    "# Generate the curve points\n",
    "t = np.linspace(0, 1, num=100)\n",
    "curve_points = np.array([hermite_curve(ti) for ti in t])\n",
    "\n",
    "# Plot the curve\n",
    "plt.plot(curve_points[:, 0], curve_points[:, 1], '-o')\n",
    "plt.axis('equal')\n",
    "plt.show()\n"
   ]
  },
  {
   "cell_type": "markdown",
   "id": "7a7f02b7",
   "metadata": {},
   "source": [
    "### other ways"
   ]
  },
  {
   "cell_type": "code",
   "execution_count": 5,
   "id": "159d3bd4",
   "metadata": {},
   "outputs": [
    {
     "data": {
      "image/png": "[encoded data removed]",
      "text/plain": [
       "<Figure size 432x288 with 1 Axes>"
      ]
     },
     "metadata": {
      "needs_background": "light"
     },
     "output_type": "display_data"
    }
   ],
   "source": [
    "import matplotlib.pyplot as plt\n",
    "import numpy as np\n",
    "\n",
    "# Define the control points\n",
    "P0 = np.array([0.0, 0.0])\n",
    "P1 = np.array([1.0, 1.0])\n",
    "T0 = np.array([1.0, 0.0])\n",
    "T1 = np.array([1.0, 0.0])\n",
    "\n",
    "# Define the Hermite basis functions\n",
    "def h00(t):\n",
    "    return 2*t**3 - 3*t**2 + 1\n",
    "\n",
    "def h10(t):\n",
    "    return t**3 - 2*t**2 + t\n",
    "\n",
    "def h01(t):\n",
    "    return -2*t**3 + 3*t**2\n",
    "\n",
    "def h11(t):\n",
    "    return t**3 - t**2\n",
    "\n",
    "# Define the curve function\n",
    "def hermite_curve(t):\n",
    "    x = h00(t)*P0[0] + h10(t)*T0[0] + h01(t)*P1[0] + h11(t)*T1[0]\n",
    "    y = h00(t)*P0[1] + h10(t)*T0[1] + h01(t)*P1[1] + h11(t)*T1[1]\n",
    "    return x, y\n",
    "\n",
    "# Generate the curve points\n",
    "t = np.linspace(0, 1, num=100)\n",
    "curve_points = np.array([hermite_curve(ti) for ti in t])\n",
    "\n",
    "# Plot the curve and the control points\n",
    "fig, ax = plt.subplots()\n",
    "ax.plot(curve_points[:, 0], curve_points[:, 1], '-o')\n",
    "ax.plot(P0[0], P0[1], 'ro', label='P0')\n",
    "ax.plot(P1[0], P1[1], 'go', label='P1')\n",
    "ax.legend()\n",
    "ax.axis('equal')\n",
    "plt.show()\n"
   ]
  },
  {
   "cell_type": "code",
   "execution_count": null,
   "id": "dda3d5eb",
   "metadata": {},
   "outputs": [],
   "source": []
  }
 ],
 "metadata": {
  "kernelspec": {
   "display_name": "Python 3 (ipykernel)",
   "language": "python",
   "name": "python3"
  },
  "language_info": {
   "codemirror_mode": {
    "name": "ipython",
    "version": 3
   },
   "file_extension": ".py",
   "mimetype": "text/x-python",
   "name": "python",
   "nbconvert_exporter": "python",
   "pygments_lexer": "ipython3",
   "version": "3.9.12"
  }
 },
 "nbformat": 4,
 "nbformat_minor": 5
}
