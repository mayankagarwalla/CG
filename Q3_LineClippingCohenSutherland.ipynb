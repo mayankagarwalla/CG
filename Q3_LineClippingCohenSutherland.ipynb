{
 "cells": [
  {
   "cell_type": "code",
   "execution_count": 1,
   "id": "557dd230",
   "metadata": {},
   "outputs": [],
   "source": [
    "import matplotlib.pyplot as plt"
   ]
  },
  {
   "cell_type": "code",
   "execution_count": 8,
   "id": "8bc5356a",
   "metadata": {},
   "outputs": [],
   "source": [
    "INSIDE = 0\n",
    "LEFT = 1\n",
    "RIGHT = 2\n",
    "BOTTOM = 4\n",
    "TOP = 8"
   ]
  },
  {
   "cell_type": "code",
   "execution_count": 9,
   "id": "aae965bb",
   "metadata": {},
   "outputs": [],
   "source": [
    "def compute_outcode(x, y, xmin, xmax, ymin, ymax):\n",
    "    code = INSIDE\n",
    "\n",
    "    if x < xmin:\n",
    "        code |= LEFT\n",
    "    elif x > xmax:\n",
    "        code |= RIGHT\n",
    "\n",
    "    if y < ymin:\n",
    "        code |= BOTTOM\n",
    "    elif y > ymax:\n",
    "        code |= TOP\n",
    "\n",
    "    return code"
   ]
  },
  {
   "cell_type": "code",
   "execution_count": 10,
   "id": "fce5b06c",
   "metadata": {},
   "outputs": [],
   "source": [
    "def clip_line(x1, y1, x2, y2, xmin, xmax, ymin, ymax):\n",
    "    outcode1 = compute_outcode(x1, y1, xmin, xmax, ymin, ymax)\n",
    "    outcode2 = compute_outcode(x2, y2, xmin, xmax, ymin, ymax)\n",
    "    accept = False\n",
    "\n",
    "    while True:\n",
    "        if not (outcode1 | outcode2):\n",
    "            accept = True\n",
    "            break\n",
    "\n",
    "        if outcode1 & outcode2:\n",
    "            break\n",
    "\n",
    "        x = 0\n",
    "        y = 0\n",
    "\n",
    "        outcode = outcode1 or outcode2\n",
    "\n",
    "        if outcode & TOP:\n",
    "            x = x1 + (x2 - x1) * (ymax - y1) / (y2 - y1)\n",
    "            y = ymax\n",
    "        elif outcode & BOTTOM:\n",
    "            x = x1 + (x2 - x1) * (ymin - y1) / (y2 - y1)\n",
    "            y = ymin\n",
    "        elif outcode & RIGHT:\n",
    "            y = y1 + (y2 - y1) * (xmax - x1) / (x2 - x1)\n",
    "            x = xmax\n",
    "        elif outcode & LEFT:\n",
    "            y = y1 + (y2 - y1) * (xmin - x1) / (x2 - x1)\n",
    "            x = xmin\n",
    "\n",
    "        if outcode == outcode1:\n",
    "            x1 = x\n",
    "            y1 = y\n",
    "            outcode1 = compute_outcode(x1, y1, xmin, xmax, ymin, ymax)\n",
    "        else:\n",
    "            x2 = x\n",
    "            y2 = y\n",
    "            outcode2 = compute_outcode(x2, y2, xmin, xmax, ymin, ymax)\n",
    "\n",
    "    if accept:\n",
    "        plt.plot([x1, x2], [y1, y2], 'b')\n",
    "        plt.axis('equal')\n",
    "        plt.show()\n",
    "    else:\n",
    "        print(\"Line outside the clipping window\")\n"
   ]
  },
  {
   "cell_type": "code",
   "execution_count": 3,
   "id": "da8c98c3",
   "metadata": {},
   "outputs": [
    {
     "name": "stdout",
     "output_type": "stream",
     "text": [
      "Enter x1: 1\n",
      "Enter y1: 1\n",
      "Enter x2: 5\n",
      "Enter y2: 3\n",
      "Enter xmin: 1\n",
      "Enter xmax: 5\n",
      "Enter ymin: 0\n",
      "Enter ymax: 4\n"
     ]
    }
   ],
   "source": [
    "# take input from user\n",
    "x1 = float(input(\"Enter x1: \"))\n",
    "y1 = float(input(\"Enter y1: \"))\n",
    "x2 = float(input(\"Enter x2: \"))\n",
    "y2 = float(input(\"Enter y2: \"))\n",
    "xmin = float(input(\"Enter xmin: \"))\n",
    "xmax = float(input(\"Enter xmax: \"))\n",
    "ymin = float(input(\"Enter ymin: \"))\n",
    "ymax = float(input(\"Enter ymax: \"))"
   ]
  },
  {
   "cell_type": "code",
   "execution_count": 11,
   "id": "1e495c23",
   "metadata": {},
   "outputs": [
    {
     "data": {
      "text/plain": [
       "[<matplotlib.lines.Line2D at 0x7f7f60ceca90>]"
      ]
     },
     "execution_count": 11,
     "metadata": {},
     "output_type": "execute_result"
    },
    {
     "data": {
      "image/png": "[encoded data removed]",
      "text/plain": [
       "<Figure size 432x288 with 1 Axes>"
      ]
     },
     "metadata": {
      "needs_background": "light"
     },
     "output_type": "display_data"
    }
   ],
   "source": [
    "# plot the clipping window\n",
    "plt.plot([xmin, xmax, xmax, xmin, xmin], [ymin, ymin, ymax, ymax, ymin], 'r')"
   ]
  },
  {
   "cell_type": "code",
   "execution_count": 12,
   "id": "c708ce78",
   "metadata": {},
   "outputs": [
    {
     "data": {
      "text/plain": [
       "[<matplotlib.lines.Line2D at 0x7f7f4006ac40>]"
      ]
     },
     "execution_count": 12,
     "metadata": {},
     "output_type": "execute_result"
    },
    {
     "data": {
      "image/png": "[encoded data removed]",
      "text/plain": [
       "<Figure size 432x288 with 1 Axes>"
      ]
     },
     "metadata": {
      "needs_background": "light"
     },
     "output_type": "display_data"
    }
   ],
   "source": [
    "# plot the original line segment\n",
    "plt.plot([x1, x2], [y1, y2], 'g')"
   ]
  },
  {
   "cell_type": "code",
   "execution_count": 13,
   "id": "084edc44",
   "metadata": {},
   "outputs": [
    {
     "data": {
      "image/png": "[encoded data removed]",
      "text/plain": [
       "<Figure size 432x288 with 1 Axes>"
      ]
     },
     "metadata": {
      "needs_background": "light"
     },
     "output_type": "display_data"
    }
   ],
   "source": [
    "# clip the line segment and plot the result\n",
    "clip_line(x1, y1, x2, y2, xmin, xmax, ymin, ymax)"
   ]
  },
  {
   "cell_type": "code",
   "execution_count": null,
   "id": "5012d8dc",
   "metadata": {},
   "outputs": [],
   "source": []
  }
 ],
 "metadata": {
  "kernelspec": {
   "display_name": "Python 3 (ipykernel)",
   "language": "python",
   "name": "python3"
  },
  "language_info": {
   "codemirror_mode": {
    "name": "ipython",
    "version": 3
   },
   "file_extension": ".py",
   "mimetype": "text/x-python",
   "name": "python",
   "nbconvert_exporter": "python",
   "pygments_lexer": "ipython3",
   "version": "3.9.12"
  }
 },
 "nbformat": 4,
 "nbformat_minor": 5
}
